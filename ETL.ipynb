{
 "cells": [
  {
   "attachments": {},
   "cell_type": "markdown",
   "metadata": {},
   "source": [
    "# Extração de dados\n",
    "\n",
    "- passos\n",
    "    1. Com base mas colunas da tabela do censo de 2021 de curso e IES será uma criada uma tabela para cursos superiores e institutos de ensino superior, contendo as informações pertinentes para a analise ao longo dos anos dos cursos de formação superior.\n",
    "    2. A tabela de cursos superiores e institutos de ensino superior e serão normalizadas e carregadas dentro de um banco de dados PostegreeSQL.\n",
    "    3. As cargas serão verificadas de forma quantitativa para verificar a veraicidade dos dados."
   ]
  },
  {
   "cell_type": "code",
   "execution_count": 35,
   "metadata": {},
   "outputs": [],
   "source": [
    "import pandas as pd\n",
    "import numpy as np"
   ]
  },
  {
   "cell_type": "code",
   "execution_count": 36,
   "metadata": {},
   "outputs": [],
   "source": [
    "cursos = pd.DataFrame\n",
    "ies = pd.DataFrame"
   ]
  },
  {
   "cell_type": "code",
   "execution_count": 37,
   "metadata": {},
   "outputs": [
    {
     "name": "stdout",
     "output_type": "stream",
     "text": [
      "lendo as tabelas...\n",
      "data 2021 : OK.\n",
      "data 2020 : OK.\n",
      "data 2019 : OK.\n",
      "data 2018 : OK.\n",
      "data 2017 : OK.\n",
      "data 2016 : OK.\n",
      "data 2015 : OK.\n",
      "data 2014 : OK.\n",
      "data 2013 : OK.\n",
      "data 2012 : OK.\n",
      "data 2011 : OK.\n",
      "data 2010 : OK.\n",
      "data 2009 : OK.\n"
     ]
    }
   ],
   "source": [
    "print('lendo as tabelas...')\n",
    "for ano in range(21, 8, -1):\n",
    "    for tabela in ['CURSOS', 'IES']:\n",
    "        if ano == 9:\n",
    "            ano = '09'\n",
    "        \n",
    "        exec(f\"df = pd.read_csv('data/20{ano}/MICRODADOS_CADASTRO_{tabela}_20{ano}.csv', sep=';', encoding='latin1', low_memory=False)\")\n",
    "\n",
    "        _tabela = tabela.lower()\n",
    "        if ano == 21:\n",
    "            exec(f'{_tabela} = df')\n",
    "        else:\n",
    "            exec(f'{_tabela} = pd.concat([{_tabela}, df], ignore_index=True)')\n",
    "\n",
    "    print(f'data 20{ano} : OK.')\n",
    "del(df)"
   ]
  },
  {
   "cell_type": "code",
   "execution_count": null,
   "metadata": {},
   "outputs": [],
   "source": [
    "#export ies and cursos\n",
    "# ies.to_csv('data/ies.csv', index=False)\n",
    "# cursos.to_csv('data/cursos.csv', index=False)"
   ]
  },
  {
   "attachments": {},
   "cell_type": "markdown",
   "metadata": {},
   "source": [
    "# Transformação de Dados"
   ]
  },
  {
   "cell_type": "code",
   "execution_count": 4,
   "metadata": {},
   "outputs": [],
   "source": [
    "df_cursos = cursos\n",
    "cursos = cursos[['NU_ANO_CENSO', 'CO_CURSO', 'CO_IES', 'NO_CURSO', 'TP_GRAU_ACADEMICO', 'CO_CINE_AREA_DETALHADA']].reset_index(drop=True)"
   ]
  },
  {
   "cell_type": "code",
   "execution_count": 5,
   "metadata": {},
   "outputs": [],
   "source": [
    "# criar uma tabela com o ano que o co_curso aparece pela primeira vez\n",
    "cursos['ANO_INICIO'] = cursos.groupby('CO_CURSO')['NU_ANO_CENSO'].transform('min')\n",
    "# criar uma tabela com o ano que o co_curso aparece pela ultima vez\n",
    "cursos['ANO_FIM'] = cursos.groupby('CO_CURSO')['NU_ANO_CENSO'].transform('max')"
   ]
  },
  {
   "cell_type": "code",
   "execution_count": 6,
   "metadata": {},
   "outputs": [],
   "source": [
    "# deletar linhas duplicadas por co_curso e retirar a coluna NU_ANO_CENSO e resetar o index\n",
    "cursos = cursos.drop_duplicates(subset=['CO_CURSO']).drop(columns=['NU_ANO_CENSO']).reset_index(drop=True)"
   ]
  },
  {
   "cell_type": "code",
   "execution_count": 7,
   "metadata": {},
   "outputs": [],
   "source": [
    "df_ies = ies\n",
    "ies = ies[['CO_IES', 'NO_IES', 'SG_IES', 'CO_REGIAO_IES', 'CO_UF_IES', 'CO_MUNICIPIO_IES']].drop_duplicates(subset=['CO_IES']).reset_index(drop=True)"
   ]
  },
  {
   "cell_type": "code",
   "execution_count": 8,
   "metadata": {},
   "outputs": [],
   "source": [
    "regiao = df_ies[['CO_REGIAO_IES', 'NO_REGIAO_IES']].drop_duplicates(subset=['CO_REGIAO_IES']).sort_values(by='CO_REGIAO_IES').reset_index(drop=True)"
   ]
  },
  {
   "cell_type": "code",
   "execution_count": 9,
   "metadata": {},
   "outputs": [],
   "source": [
    "uf = df_ies[['CO_UF_IES', 'SG_UF_IES', 'NO_UF_IES']].drop_duplicates(subset=['CO_UF_IES']).sort_values(by='CO_UF_IES').reset_index(drop=True)"
   ]
  },
  {
   "cell_type": "code",
   "execution_count": 10,
   "metadata": {},
   "outputs": [],
   "source": [
    "municipios = df_ies[['CO_MUNICIPIO_IES', 'NO_MUNICIPIO_IES', 'CO_UF_IES']].drop_duplicates(subset=['CO_MUNICIPIO_IES']).sort_values(by='CO_MUNICIPIO_IES').reset_index(drop=True)"
   ]
  },
  {
   "cell_type": "code",
   "execution_count": 12,
   "metadata": {},
   "outputs": [],
   "source": [
    "qts_alunos = df_cursos[['CO_CURSO', 'NU_ANO_CENSO', 'QT_VG_TOTAL', 'QT_VG_NOVA', 'QT_INSCRITO_TOTAL', 'QT_ING', 'QT_MAT', 'QT_CONC']]\n",
    "#drop duplicates por oc_curso e nu_ano_censo\n",
    "qts_alunos = qts_alunos.drop_duplicates(subset=['CO_CURSO', 'NU_ANO_CENSO']).reset_index(drop=True)"
   ]
  },
  {
   "cell_type": "code",
   "execution_count": 13,
   "metadata": {},
   "outputs": [],
   "source": [
    "cine_area_detalhada = df_cursos[['CO_CINE_AREA_DETALHADA', 'NO_CINE_AREA_DETALHADA']].drop_duplicates(subset=['CO_CINE_AREA_DETALHADA']).sort_values(by='CO_CINE_AREA_DETALHADA').reset_index(drop=True)"
   ]
  },
  {
   "attachments": {},
   "cell_type": "markdown",
   "metadata": {},
   "source": [
    "# Carga para o bando de dados"
   ]
  },
  {
   "cell_type": "code",
   "execution_count": 14,
   "metadata": {},
   "outputs": [],
   "source": [
    "import psycopg2"
   ]
  },
  {
   "cell_type": "code",
   "execution_count": 15,
   "metadata": {},
   "outputs": [],
   "source": [
    "conn = psycopg2.connect(\n",
    "    host=\"localhost\",\n",
    "    database=\"postgres\",\n",
    "    port=5432,\n",
    "    user=\"postgres\",\n",
    "    password=\"99885\")"
   ]
  },
  {
   "cell_type": "code",
   "execution_count": 16,
   "metadata": {},
   "outputs": [],
   "source": [
    "cursor = conn.cursor()"
   ]
  },
  {
   "cell_type": "code",
   "execution_count": 19,
   "metadata": {},
   "outputs": [
    {
     "name": "stdout",
     "output_type": "stream",
     "text": [
      "schema ja existe\n"
     ]
    }
   ],
   "source": [
    "try:\n",
    "    cursor.execute(\"CREATE SCHEMA censo_ensino_superior;\")\n",
    "    conn.commit()\n",
    "except:\n",
    "    print('schema ja existe')\n",
    "    conn.commit()"
   ]
  },
  {
   "attachments": {},
   "cell_type": "markdown",
   "metadata": {},
   "source": [
    "### Cine Area"
   ]
  },
  {
   "cell_type": "code",
   "execution_count": 20,
   "metadata": {},
   "outputs": [],
   "source": [
    "# criar tebela cine area\n",
    "cursor.execute(\"\"\"\n",
    "    CREATE TABLE IF NOT EXISTS censo_ensino_superior.cine_area_detalhada (\n",
    "        CO_CINE_AREA_DETALHADA INT PRIMARY KEY,\n",
    "        NO_CINE_AREA_DETALHADA VARCHAR(255)\n",
    "    );\n",
    "\"\"\")\n",
    "conn.commit()\n"
   ]
  },
  {
   "cell_type": "code",
   "execution_count": null,
   "metadata": {},
   "outputs": [],
   "source": [
    "#carregar tabela cine area\n",
    "for i in range(len(cine_area_detalhada)):\n",
    "    cursor.execute(f\"INSERT INTO censo_ensino_superior.cine_area_detalhada VALUES ({cine_area_detalhada.loc[i, 'CO_CINE_AREA_DETALHADA']}, '{cine_area_detalhada.loc[i, 'NO_CINE_AREA_DETALHADA']}');\")\n",
    "conn.commit()"
   ]
  },
  {
   "attachments": {},
   "cell_type": "markdown",
   "metadata": {},
   "source": [
    "### Regiao"
   ]
  },
  {
   "cell_type": "code",
   "execution_count": null,
   "metadata": {},
   "outputs": [],
   "source": [
    "# criar tabela regiao\n",
    "\n",
    "cursor.execute(\"\"\"\n",
    "    CREATE TABLE IF NOT EXISTS censo_ensino_superior.regiao (\n",
    "        co_regiao_ies int PRIMARY KEY,\n",
    "        no_regiao_ies varchar(50)\n",
    "    );\n",
    "\"\"\")\n",
    "conn.commit()\n",
    "\n",
    "\n"
   ]
  },
  {
   "cell_type": "code",
   "execution_count": null,
   "metadata": {},
   "outputs": [
    {
     "name": "stdout",
     "output_type": "stream",
     "text": [
      "tabela regiao ja foi carregada\n"
     ]
    }
   ],
   "source": [
    "# carregar tabela regiao\n",
    "try:\n",
    "    for i in range(len(regiao)):\n",
    "        cursor.execute(f\"\"\"\n",
    "            INSERT INTO censo_ensino_superior.regiao (co_regiao_ies, no_regiao_ies)\n",
    "            VALUES ({regiao['CO_REGIAO_IES'][i]}, '{regiao['NO_REGIAO_IES'][i]}');\n",
    "        \"\"\")\n",
    "    conn.commit()\n",
    "except:\n",
    "    print('tabela regiao ja foi carregada')"
   ]
  },
  {
   "attachments": {},
   "cell_type": "markdown",
   "metadata": {},
   "source": [
    "### UF"
   ]
  },
  {
   "cell_type": "code",
   "execution_count": null,
   "metadata": {},
   "outputs": [
    {
     "name": "stdout",
     "output_type": "stream",
     "text": [
      "tabela uf ja existe\n"
     ]
    }
   ],
   "source": [
    "#criar tabela uf no banco\n",
    "\n",
    "cursor.execute(\"\"\"\n",
    "    CREATE TABLE IF NOT EXISTS censo_ensino_superior.uf (\n",
    "        co_uf_ies int PRIMARY KEY,\n",
    "        sg_uf_ies varchar(2),\n",
    "        no_uf_ies varchar(50)\n",
    "    );\n",
    "\"\"\")\n",
    "conn.commit()\n"
   ]
  },
  {
   "cell_type": "code",
   "execution_count": null,
   "metadata": {},
   "outputs": [
    {
     "name": "stdout",
     "output_type": "stream",
     "text": [
      "tabela uf ja foi carregada\n"
     ]
    }
   ],
   "source": [
    "# carregar tabela uf\n",
    "for i in range(len(uf)):\n",
    "    cursor.execute(f\"\"\"\n",
    "        INSERT INTO censo_ensino_superior.uf (co_uf_ies, sg_uf_ies, no_uf_ies)\n",
    "        VALUES ({uf['CO_UF_IES'][i]}, '{uf['SG_UF_IES'][i]}', '{uf['NO_UF_IES'][i]}');\n",
    "    \"\"\")\n",
    "    if i % 1000 == 0:\n",
    "        conn.commit()\n",
    "        print(i)\n",
    "conn.commit()"
   ]
  },
  {
   "attachments": {},
   "cell_type": "markdown",
   "metadata": {},
   "source": [
    "### MUNICIPIO"
   ]
  },
  {
   "cell_type": "code",
   "execution_count": null,
   "metadata": {},
   "outputs": [],
   "source": [
    "# criar tabela municipio\n",
    "\n",
    "cursor.execute(\"\"\"\n",
    "    CREATE TABLE IF NOT EXISTS censo_ensino_superior.municipio (\n",
    "        co_municipio_ies int PRIMARY KEY,\n",
    "        no_municipio_ies varchar(50),\n",
    "        co_uf_ies int,\n",
    "        \n",
    "        FOREIGN KEY (co_uf_ies) REFERENCES censo_ensino_superior.uf(co_uf_ies)\n",
    "    );\n",
    "\"\"\")\n",
    "conn.commit()\n"
   ]
  },
  {
   "cell_type": "code",
   "execution_count": null,
   "metadata": {},
   "outputs": [],
   "source": [
    "# mudar todos d'Oeste para d.Oeste\n",
    "municipios['NO_MUNICIPIO_IES'] = municipios['NO_MUNICIPIO_IES'].str.replace(\"d'Oeste\", \"d.Oeste\")"
   ]
  },
  {
   "cell_type": "code",
   "execution_count": null,
   "metadata": {},
   "outputs": [],
   "source": [
    "#carregar tabela municipio\n",
    "for i in range(len(municipios)):\n",
    "    cursor.execute(f\"\"\"\n",
    "        INSERT INTO censo_ensino_superior.municipio (co_municipio_ies, no_municipio_ies, co_uf_ies)\n",
    "        VALUES ({municipios['CO_MUNICIPIO_IES'][i]}, '{municipios['NO_MUNICIPIO_IES'][i]}', {municipios['CO_UF_IES'][i]});\n",
    "    \"\"\")\n",
    "if i % 1000 == 0:\n",
    "    conn.commit()\n",
    "    print(i)\n",
    "conn.commit()"
   ]
  },
  {
   "attachments": {},
   "cell_type": "markdown",
   "metadata": {},
   "source": [
    "### IES"
   ]
  },
  {
   "cell_type": "code",
   "execution_count": null,
   "metadata": {},
   "outputs": [],
   "source": [
    "# tabela ies\n",
    "cursor.execute(\"\"\"\n",
    "    CREATE TABLE IF NOT EXISTS censo_ensino_superior.ies (\n",
    "        co_ies int PRIMARY KEY,\n",
    "        no_ies varchar(255),\n",
    "        sg_ies varchar(50),\n",
    "        co_municipio_ies int,\n",
    "        co_regiao_ies int,\n",
    "\n",
    "        FOREIGN KEY (co_municipio_ies) REFERENCES censo_ensino_superior.municipio(co_municipio_ies),\n",
    "        FOREIGN KEY (co_regiao_ies) REFERENCES censo_ensino_superior.regiao(co_regiao_ies)\n",
    "    );\n",
    "\"\"\")\n",
    "conn.commit()"
   ]
  },
  {
   "cell_type": "code",
   "execution_count": null,
   "metadata": {},
   "outputs": [],
   "source": [
    "#subistituir as \"'\" por \".\"\n",
    "ies['NO_IES'] = ies['NO_IES'].str.replace(\"'\", \".\")\n",
    "ies['SG_IES'] = ies['SG_IES'].str.replace(\"'\", \".\")\n"
   ]
  },
  {
   "cell_type": "code",
   "execution_count": null,
   "metadata": {},
   "outputs": [],
   "source": [
    "# carregar ies\n",
    "for i in range(len(ies)):\n",
    "    cursor.execute(f\"\"\"\n",
    "        INSERT INTO censo_ensino_superior.ies (co_ies, no_ies, sg_ies, co_municipio_ies, co_regiao_ies)\n",
    "        VALUES ({ies['CO_IES'][i]}, '{ies['NO_IES'][i]}', '{ies['SG_IES'][i]}', {ies['CO_MUNICIPIO_IES'][i]}, {ies['CO_REGIAO_IES'][i]});\n",
    "    \"\"\")\n",
    "    if i % 1000 == 0:\n",
    "        conn.commit()\n",
    "        print(i)\n",
    "conn.commit()\n"
   ]
  },
  {
   "attachments": {},
   "cell_type": "markdown",
   "metadata": {},
   "source": [
    "### CURSO"
   ]
  },
  {
   "cell_type": "code",
   "execution_count": null,
   "metadata": {},
   "outputs": [],
   "source": [
    "# criar tabela cursos\n",
    "cursor.execute(\"\"\"\n",
    "    CREATE TABLE IF NOT EXISTS censo_ensino_superior.cursos (\n",
    "        co_curso int PRIMARY KEY,\n",
    "        no_curso varchar(255),\n",
    "        co_ies int,\n",
    "        co_cine_area_detalhada int,\n",
    "\n",
    "        FOREIGN KEY (co_ies) REFERENCES censo_ensino_superior.ies(co_ies),\n",
    "        FOREIGN KEY (co_cine_area_detalhada) REFERENCES censo_ensino_superior.cine_area_detalhada(co_cine_area_detalhada)\n",
    "    );\n",
    "\"\"\")\n",
    "conn.commit()"
   ]
  },
  {
   "cell_type": "code",
   "execution_count": null,
   "metadata": {},
   "outputs": [],
   "source": [
    "# carregar a tabela cursos\n",
    "for i in range(len(cursos)):\n",
    "    cursor.execute(f\"\"\"\n",
    "        INSERT INTO censo_ensino_superior.cursos (co_curso, no_curso, co_ies, co_cine_area_detalhada)\n",
    "        VALUES ({cursos['CO_CURSO'][i]}, '{cursos['NO_CURSO'][i]}', {cursos['CO_IES'][i]}, {cursos['CO_CINE_AREA_DETALHADA'][i]});\n",
    "    \"\"\")\n",
    "    if i % 1000 == 0:\n",
    "        conn.commit()\n",
    "        print(i)\n",
    "conn.commit()\n"
   ]
  },
  {
   "attachments": {},
   "cell_type": "markdown",
   "metadata": {},
   "source": [
    "### QT_Alunos"
   ]
  },
  {
   "cell_type": "code",
   "execution_count": 27,
   "metadata": {},
   "outputs": [],
   "source": [
    "# criar tabela qt_alunos\n",
    "cursor.execute(\"\"\"\n",
    "    CREATE TABLE IF NOT EXISTS censo_ensino_superior.qt_alunos (\n",
    "        co_curso int,\n",
    "        nu_ano_censo int,\n",
    "        qt_vg_total int,\n",
    "        qt_vg_nova int,\n",
    "        qt_incritos_total int,\n",
    "        qt_ing int,\n",
    "        qt_mat int,\n",
    "        qt_conc int,\n",
    "\n",
    "        PRIMARY KEY (co_curso, nu_ano_censo),\n",
    "        FOREIGN KEY (co_curso) REFERENCES censo_ensino_superior.cursos(co_curso)\n",
    "\n",
    "    );\n",
    "\"\"\")\n",
    "conn.commit()\n"
   ]
  },
  {
   "cell_type": "code",
   "execution_count": 30,
   "metadata": {},
   "outputs": [],
   "source": [
    "#substituir nan por not a number numpy\n",
    "qts_alunos = qts_alunos.replace(np.nan, 0)\n"
   ]
  },
  {
   "cell_type": "code",
   "execution_count": 33,
   "metadata": {},
   "outputs": [],
   "source": [
    "# carregar a tabela qt_alunos\n",
    "for i in range(len(qts_alunos)):\n",
    "    cursor.execute(f\"\"\"\n",
    "        INSERT INTO censo_ensino_superior.qt_alunos (co_curso, nu_ano_censo, qt_vg_total, qt_vg_nova, qt_incritos_total, qt_ing, qt_mat, qt_conc)\n",
    "        VALUES ({qts_alunos['CO_CURSO'][i]}, {qts_alunos['NU_ANO_CENSO'][i]}, {qts_alunos['QT_VG_TOTAL'][i]}, {qts_alunos['QT_VG_NOVA'][i]}, {qts_alunos['QT_INSCRITO_TOTAL'][i]}, {qts_alunos['QT_ING'][i]}, {qts_alunos['QT_MAT'][i]}, {qts_alunos['QT_CONC'][i]});\n",
    "    \"\"\")\n",
    "    if i % 1000 == 0:\n",
    "        conn.commit()\n",
    "        print(i)\n",
    "conn.commit()"
   ]
  }
 ],
 "metadata": {
  "kernelspec": {
   "display_name": "venv",
   "language": "python",
   "name": "python3"
  },
  "language_info": {
   "codemirror_mode": {
    "name": "ipython",
    "version": 3
   },
   "file_extension": ".py",
   "mimetype": "text/x-python",
   "name": "python",
   "nbconvert_exporter": "python",
   "pygments_lexer": "ipython3",
   "version": "3.11.3"
  },
  "orig_nbformat": 4
 },
 "nbformat": 4,
 "nbformat_minor": 2
}

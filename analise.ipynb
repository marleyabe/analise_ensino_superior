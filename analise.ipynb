{
 "cells": [
  {
   "cell_type": "code",
   "execution_count": 1,
   "metadata": {},
   "outputs": [],
   "source": [
    "import pandas as pd"
   ]
  },
  {
   "cell_type": "code",
   "execution_count": 2,
   "metadata": {},
   "outputs": [],
   "source": [
    "df = pd.read_csv('PDA_Dados_Cursos_Graduacao_Brasil.csv')\n"
   ]
  },
  {
   "attachments": {},
   "cell_type": "markdown",
   "metadata": {},
   "source": [
    "# Conhecendo os Dados"
   ]
  },
  {
   "cell_type": "code",
   "execution_count": 3,
   "metadata": {},
   "outputs": [
    {
     "data": {
      "text/html": [
       "<div>\n",
       "<style scoped>\n",
       "    .dataframe tbody tr th:only-of-type {\n",
       "        vertical-align: middle;\n",
       "    }\n",
       "\n",
       "    .dataframe tbody tr th {\n",
       "        vertical-align: top;\n",
       "    }\n",
       "\n",
       "    .dataframe thead th {\n",
       "        text-align: right;\n",
       "    }\n",
       "</style>\n",
       "<table border=\"1\" class=\"dataframe\">\n",
       "  <thead>\n",
       "    <tr style=\"text-align: right;\">\n",
       "      <th></th>\n",
       "      <th>CODIGO_IES</th>\n",
       "      <th>NOME_IES</th>\n",
       "      <th>CATEGORIA_ADMINISTRATIVA</th>\n",
       "      <th>ORGANIZACAO_ACADEMICA</th>\n",
       "      <th>CODIGO_CURSO</th>\n",
       "      <th>NOME_CURSO</th>\n",
       "      <th>GRAU</th>\n",
       "      <th>AREA_OCDE</th>\n",
       "      <th>MODALIDADE</th>\n",
       "      <th>SITUACAO_CURSO</th>\n",
       "      <th>QT_VAGAS_AUTORIZADAS</th>\n",
       "      <th>CARGA_HORARIA</th>\n",
       "      <th>CODIGO_AREA_OCDE_CINE</th>\n",
       "      <th>AREA_OCDE_CINE</th>\n",
       "      <th>CODIGO_MUNICIPIO</th>\n",
       "      <th>MUNICIPIO</th>\n",
       "      <th>UF</th>\n",
       "      <th>REGIAO</th>\n",
       "    </tr>\n",
       "  </thead>\n",
       "  <tbody>\n",
       "    <tr>\n",
       "      <th>0</th>\n",
       "      <td>4751</td>\n",
       "      <td>CENTRO UNIVERSITÁRIO UNIFATECIE</td>\n",
       "      <td>Privada com fins lucrativos</td>\n",
       "      <td>Centro Universitário</td>\n",
       "      <td>1556773</td>\n",
       "      <td>ENGENHARIA AGRONÔMICA</td>\n",
       "      <td>Bacharelado</td>\n",
       "      <td>Agronomia</td>\n",
       "      <td>Educação a Distância</td>\n",
       "      <td>Em atividade</td>\n",
       "      <td>1000</td>\n",
       "      <td>4400</td>\n",
       "      <td>301</td>\n",
       "      <td>Agronomia</td>\n",
       "      <td>3541406</td>\n",
       "      <td>Presidente Prudente</td>\n",
       "      <td>SP</td>\n",
       "      <td>SUDESTE</td>\n",
       "    </tr>\n",
       "    <tr>\n",
       "      <th>1</th>\n",
       "      <td>1491</td>\n",
       "      <td>CENTRO UNIVERSITÁRIO INTERNACIONAL</td>\n",
       "      <td>Privada com fins lucrativos</td>\n",
       "      <td>Centro Universitário</td>\n",
       "      <td>1186955</td>\n",
       "      <td>LETRAS</td>\n",
       "      <td>Licenciatura</td>\n",
       "      <td>Formação de professor de língua/literatura ver...</td>\n",
       "      <td>Educação a Distância</td>\n",
       "      <td>Em atividade</td>\n",
       "      <td>3000</td>\n",
       "      <td>3992</td>\n",
       "      <td>58</td>\n",
       "      <td>Formação de professor de língua/literatura ver...</td>\n",
       "      <td>2516201</td>\n",
       "      <td>Sousa</td>\n",
       "      <td>PB</td>\n",
       "      <td>NORDESTE</td>\n",
       "    </tr>\n",
       "    <tr>\n",
       "      <th>2</th>\n",
       "      <td>1472</td>\n",
       "      <td>CENTRO UNIVERSITÁRIO LEONARDO DA VINCI</td>\n",
       "      <td>Privada com fins lucrativos</td>\n",
       "      <td>Centro Universitário</td>\n",
       "      <td>99950</td>\n",
       "      <td>GEOGRAFIA</td>\n",
       "      <td>Licenciatura</td>\n",
       "      <td>Formação de professor de geografia</td>\n",
       "      <td>Educação a Distância</td>\n",
       "      <td>Em atividade</td>\n",
       "      <td>7620</td>\n",
       "      <td>3500</td>\n",
       "      <td>39</td>\n",
       "      <td>Formação de professor de geografia</td>\n",
       "      <td>2800308</td>\n",
       "      <td>Aracaju</td>\n",
       "      <td>SE</td>\n",
       "      <td>NORDESTE</td>\n",
       "    </tr>\n",
       "    <tr>\n",
       "      <th>3</th>\n",
       "      <td>221</td>\n",
       "      <td>UNIVERSIDADE CRUZEIRO DO SUL</td>\n",
       "      <td>Privada com fins lucrativos</td>\n",
       "      <td>Universidade</td>\n",
       "      <td>1467998</td>\n",
       "      <td>EDUCAÇÃO FÍSICA</td>\n",
       "      <td>Bacharelado</td>\n",
       "      <td>Educação física</td>\n",
       "      <td>Educação a Distância</td>\n",
       "      <td>Em atividade</td>\n",
       "      <td>1200</td>\n",
       "      <td>3200</td>\n",
       "      <td>328</td>\n",
       "      <td>Educação física</td>\n",
       "      <td>4113205</td>\n",
       "      <td>Lapa</td>\n",
       "      <td>PR</td>\n",
       "      <td>SUL</td>\n",
       "    </tr>\n",
       "    <tr>\n",
       "      <th>4</th>\n",
       "      <td>1472</td>\n",
       "      <td>CENTRO UNIVERSITÁRIO LEONARDO DA VINCI</td>\n",
       "      <td>Privada com fins lucrativos</td>\n",
       "      <td>Centro Universitário</td>\n",
       "      <td>1516788</td>\n",
       "      <td>SERVIÇOS PENAIS</td>\n",
       "      <td>Tecnológico</td>\n",
       "      <td>NaN</td>\n",
       "      <td>Educação a Distância</td>\n",
       "      <td>Em atividade</td>\n",
       "      <td>1500</td>\n",
       "      <td>1980</td>\n",
       "      <td>357</td>\n",
       "      <td>Serviços penais</td>\n",
       "      <td>2601706</td>\n",
       "      <td>Belo Jardim</td>\n",
       "      <td>PE</td>\n",
       "      <td>NORDESTE</td>\n",
       "    </tr>\n",
       "  </tbody>\n",
       "</table>\n",
       "</div>"
      ],
      "text/plain": [
       "   CODIGO_IES                                NOME_IES   \n",
       "0        4751         CENTRO UNIVERSITÁRIO UNIFATECIE  \\\n",
       "1        1491      CENTRO UNIVERSITÁRIO INTERNACIONAL   \n",
       "2        1472  CENTRO UNIVERSITÁRIO LEONARDO DA VINCI   \n",
       "3         221            UNIVERSIDADE CRUZEIRO DO SUL   \n",
       "4        1472  CENTRO UNIVERSITÁRIO LEONARDO DA VINCI   \n",
       "\n",
       "      CATEGORIA_ADMINISTRATIVA ORGANIZACAO_ACADEMICA  CODIGO_CURSO   \n",
       "0  Privada com fins lucrativos  Centro Universitário       1556773  \\\n",
       "1  Privada com fins lucrativos  Centro Universitário       1186955   \n",
       "2  Privada com fins lucrativos  Centro Universitário         99950   \n",
       "3  Privada com fins lucrativos          Universidade       1467998   \n",
       "4  Privada com fins lucrativos  Centro Universitário       1516788   \n",
       "\n",
       "              NOME_CURSO          GRAU   \n",
       "0  ENGENHARIA AGRONÔMICA   Bacharelado  \\\n",
       "1                 LETRAS  Licenciatura   \n",
       "2              GEOGRAFIA  Licenciatura   \n",
       "3        EDUCAÇÃO FÍSICA   Bacharelado   \n",
       "4        SERVIÇOS PENAIS   Tecnológico   \n",
       "\n",
       "                                           AREA_OCDE            MODALIDADE   \n",
       "0                                          Agronomia  Educação a Distância  \\\n",
       "1  Formação de professor de língua/literatura ver...  Educação a Distância   \n",
       "2                 Formação de professor de geografia  Educação a Distância   \n",
       "3                                    Educação física  Educação a Distância   \n",
       "4                                                NaN  Educação a Distância   \n",
       "\n",
       "  SITUACAO_CURSO  QT_VAGAS_AUTORIZADAS  CARGA_HORARIA CODIGO_AREA_OCDE_CINE   \n",
       "0   Em atividade                  1000           4400                   301  \\\n",
       "1   Em atividade                  3000           3992                    58   \n",
       "2   Em atividade                  7620           3500                    39   \n",
       "3   Em atividade                  1200           3200                   328   \n",
       "4   Em atividade                  1500           1980                   357   \n",
       "\n",
       "                                      AREA_OCDE_CINE  CODIGO_MUNICIPIO   \n",
       "0                                          Agronomia           3541406  \\\n",
       "1  Formação de professor de língua/literatura ver...           2516201   \n",
       "2                 Formação de professor de geografia           2800308   \n",
       "3                                    Educação física           4113205   \n",
       "4                                    Serviços penais           2601706   \n",
       "\n",
       "             MUNICIPIO  UF    REGIAO  \n",
       "0  Presidente Prudente  SP   SUDESTE  \n",
       "1                Sousa  PB  NORDESTE  \n",
       "2              Aracaju  SE  NORDESTE  \n",
       "3                 Lapa  PR       SUL  \n",
       "4          Belo Jardim  PE  NORDESTE  "
      ]
     },
     "execution_count": 3,
     "metadata": {},
     "output_type": "execute_result"
    }
   ],
   "source": [
    "df.head()"
   ]
  },
  {
   "cell_type": "code",
   "execution_count": 4,
   "metadata": {},
   "outputs": [
    {
     "data": {
      "text/plain": [
       "Index(['CODIGO_IES', 'NOME_IES', 'CATEGORIA_ADMINISTRATIVA',\n",
       "       'ORGANIZACAO_ACADEMICA', 'CODIGO_CURSO', 'NOME_CURSO', 'GRAU',\n",
       "       'AREA_OCDE', 'MODALIDADE', 'SITUACAO_CURSO', 'QT_VAGAS_AUTORIZADAS',\n",
       "       'CARGA_HORARIA', 'CODIGO_AREA_OCDE_CINE', 'AREA_OCDE_CINE',\n",
       "       'CODIGO_MUNICIPIO', 'MUNICIPIO', 'UF', 'REGIAO'],\n",
       "      dtype='object')"
      ]
     },
     "execution_count": 4,
     "metadata": {},
     "output_type": "execute_result"
    }
   ],
   "source": [
    "df.columns"
   ]
  },
  {
   "cell_type": "code",
   "execution_count": 5,
   "metadata": {},
   "outputs": [
    {
     "data": {
      "text/plain": [
       "(902676, 18)"
      ]
     },
     "execution_count": 5,
     "metadata": {},
     "output_type": "execute_result"
    }
   ],
   "source": [
    "df.shape"
   ]
  },
  {
   "cell_type": "code",
   "execution_count": 6,
   "metadata": {},
   "outputs": [
    {
     "name": "stdout",
     "output_type": "stream",
     "text": [
      "<class 'pandas.core.frame.DataFrame'>\n",
      "RangeIndex: 902676 entries, 0 to 902675\n",
      "Data columns (total 18 columns):\n",
      " #   Column                    Non-Null Count   Dtype \n",
      "---  ------                    --------------   ----- \n",
      " 0   CODIGO_IES                902676 non-null  int64 \n",
      " 1   NOME_IES                  902676 non-null  object\n",
      " 2   CATEGORIA_ADMINISTRATIVA  902676 non-null  object\n",
      " 3   ORGANIZACAO_ACADEMICA     902676 non-null  object\n",
      " 4   CODIGO_CURSO              902676 non-null  int64 \n",
      " 5   NOME_CURSO                902676 non-null  object\n",
      " 6   GRAU                      902676 non-null  object\n",
      " 7   AREA_OCDE                 680577 non-null  object\n",
      " 8   MODALIDADE                902676 non-null  object\n",
      " 9   SITUACAO_CURSO            902676 non-null  object\n",
      " 10  QT_VAGAS_AUTORIZADAS      902676 non-null  int64 \n",
      " 11  CARGA_HORARIA             902676 non-null  int64 \n",
      " 12  CODIGO_AREA_OCDE_CINE     902649 non-null  object\n",
      " 13  AREA_OCDE_CINE            902649 non-null  object\n",
      " 14  CODIGO_MUNICIPIO          902676 non-null  int64 \n",
      " 15  MUNICIPIO                 902676 non-null  object\n",
      " 16  UF                        902676 non-null  object\n",
      " 17  REGIAO                    902676 non-null  object\n",
      "dtypes: int64(5), object(13)\n",
      "memory usage: 124.0+ MB\n"
     ]
    }
   ],
   "source": [
    "df.info()"
   ]
  },
  {
   "attachments": {},
   "cell_type": "markdown",
   "metadata": {},
   "source": [
    "# Normalização das Colunas"
   ]
  },
  {
   "cell_type": "code",
   "execution_count": 48,
   "metadata": {},
   "outputs": [],
   "source": [
    "IES = df[['CODIGO_IES', 'NOME_IES', 'CATEGORIA_ADMINISTRATIVA', 'ORGANIZACAO_ACADEMICA', 'REGIAO', 'CODIGO_MUNICIPIO']].drop_duplicates(subset=['CODIGO_IES']).reset_index(drop=True)"
   ]
  },
  {
   "cell_type": "code",
   "execution_count": 55,
   "metadata": {},
   "outputs": [
    {
     "data": {
      "text/html": [
       "<div>\n",
       "<style scoped>\n",
       "    .dataframe tbody tr th:only-of-type {\n",
       "        vertical-align: middle;\n",
       "    }\n",
       "\n",
       "    .dataframe tbody tr th {\n",
       "        vertical-align: top;\n",
       "    }\n",
       "\n",
       "    .dataframe thead th {\n",
       "        text-align: right;\n",
       "    }\n",
       "</style>\n",
       "<table border=\"1\" class=\"dataframe\">\n",
       "  <thead>\n",
       "    <tr style=\"text-align: right;\">\n",
       "      <th></th>\n",
       "      <th>CODIGO_IES</th>\n",
       "      <th>NOME_IES</th>\n",
       "      <th>CATEGORIA_ADMINISTRATIVA</th>\n",
       "      <th>ORGANIZACAO_ACADEMICA</th>\n",
       "      <th>REGIAO</th>\n",
       "      <th>CODIGO_MUNICIPIO</th>\n",
       "    </tr>\n",
       "  </thead>\n",
       "  <tbody>\n",
       "    <tr>\n",
       "      <th>3701</th>\n",
       "      <td>2366</td>\n",
       "      <td>FACULDADE DE SISTEMAS DE INFORMAÇÃO DE PARAÍSO...</td>\n",
       "      <td>Privada com fins lucrativos</td>\n",
       "      <td>Faculdade</td>\n",
       "      <td>NORTE</td>\n",
       "      <td>1716109</td>\n",
       "    </tr>\n",
       "    <tr>\n",
       "      <th>3702</th>\n",
       "      <td>20584</td>\n",
       "      <td>FACULDADE SANTANA</td>\n",
       "      <td>Privada com fins lucrativos</td>\n",
       "      <td>Faculdade</td>\n",
       "      <td>NORDESTE</td>\n",
       "      <td>2210607</td>\n",
       "    </tr>\n",
       "    <tr>\n",
       "      <th>3703</th>\n",
       "      <td>15410</td>\n",
       "      <td>Faculdade de Ciencias Humanas e Sociais de Ser...</td>\n",
       "      <td>Especial</td>\n",
       "      <td>Faculdade</td>\n",
       "      <td>NORDESTE</td>\n",
       "      <td>2613909</td>\n",
       "    </tr>\n",
       "    <tr>\n",
       "      <th>3704</th>\n",
       "      <td>22738</td>\n",
       "      <td>FACULDADE PITÁGORAS UNOPAR DE CALDAS NOVAS</td>\n",
       "      <td>Privada com fins lucrativos</td>\n",
       "      <td>Faculdade</td>\n",
       "      <td>CENTRO-OESTE</td>\n",
       "      <td>5204508</td>\n",
       "    </tr>\n",
       "    <tr>\n",
       "      <th>3705</th>\n",
       "      <td>22715</td>\n",
       "      <td>FACULDADE PITÁGORAS UNOPAR DE CANINDÉ</td>\n",
       "      <td>Privada com fins lucrativos</td>\n",
       "      <td>Faculdade</td>\n",
       "      <td>NORDESTE</td>\n",
       "      <td>2302800</td>\n",
       "    </tr>\n",
       "  </tbody>\n",
       "</table>\n",
       "</div>"
      ],
      "text/plain": [
       "      CODIGO_IES                                           NOME_IES   \n",
       "3701        2366  FACULDADE DE SISTEMAS DE INFORMAÇÃO DE PARAÍSO...  \\\n",
       "3702       20584                                  FACULDADE SANTANA   \n",
       "3703       15410  Faculdade de Ciencias Humanas e Sociais de Ser...   \n",
       "3704       22738         FACULDADE PITÁGORAS UNOPAR DE CALDAS NOVAS   \n",
       "3705       22715              FACULDADE PITÁGORAS UNOPAR DE CANINDÉ   \n",
       "\n",
       "         CATEGORIA_ADMINISTRATIVA ORGANIZACAO_ACADEMICA        REGIAO   \n",
       "3701  Privada com fins lucrativos             Faculdade         NORTE  \\\n",
       "3702  Privada com fins lucrativos             Faculdade      NORDESTE   \n",
       "3703                     Especial             Faculdade      NORDESTE   \n",
       "3704  Privada com fins lucrativos             Faculdade  CENTRO-OESTE   \n",
       "3705  Privada com fins lucrativos             Faculdade      NORDESTE   \n",
       "\n",
       "      CODIGO_MUNICIPIO  \n",
       "3701           1716109  \n",
       "3702           2210607  \n",
       "3703           2613909  \n",
       "3704           5204508  \n",
       "3705           2302800  "
      ]
     },
     "execution_count": 55,
     "metadata": {},
     "output_type": "execute_result"
    }
   ],
   "source": [
    "IES.tail()"
   ]
  },
  {
   "cell_type": "code",
   "execution_count": 50,
   "metadata": {},
   "outputs": [],
   "source": [
    "CURSO = df[['CODIGO_CURSO', 'CODIGO_IES', 'NOME_CURSO', 'GRAU', 'CARGA_HORARIA', 'CODIGO_AREA_OCDE_CINE', 'MODALIDADE', 'SITUACAO_CURSO', 'QT_VAGAS_AUTORIZADAS']]\n",
    "CURSO = CURSO.drop_duplicates(subset=['CODIGO_CURSO', 'CODIGO_IES']).reset_index(drop=True)"
   ]
  },
  {
   "cell_type": "code",
   "execution_count": 54,
   "metadata": {},
   "outputs": [
    {
     "data": {
      "text/html": [
       "<div>\n",
       "<style scoped>\n",
       "    .dataframe tbody tr th:only-of-type {\n",
       "        vertical-align: middle;\n",
       "    }\n",
       "\n",
       "    .dataframe tbody tr th {\n",
       "        vertical-align: top;\n",
       "    }\n",
       "\n",
       "    .dataframe thead th {\n",
       "        text-align: right;\n",
       "    }\n",
       "</style>\n",
       "<table border=\"1\" class=\"dataframe\">\n",
       "  <thead>\n",
       "    <tr style=\"text-align: right;\">\n",
       "      <th></th>\n",
       "      <th>CODIGO_CURSO</th>\n",
       "      <th>CODIGO_IES</th>\n",
       "      <th>NOME_CURSO</th>\n",
       "      <th>GRAU</th>\n",
       "      <th>CARGA_HORARIA</th>\n",
       "      <th>CODIGO_AREA_OCDE_CINE</th>\n",
       "      <th>MODALIDADE</th>\n",
       "      <th>SITUACAO_CURSO</th>\n",
       "      <th>QT_VAGAS_AUTORIZADAS</th>\n",
       "    </tr>\n",
       "  </thead>\n",
       "  <tbody>\n",
       "    <tr>\n",
       "      <th>86234</th>\n",
       "      <td>54772</td>\n",
       "      <td>1077</td>\n",
       "      <td>PSICOLOGIA</td>\n",
       "      <td>Licenciatura</td>\n",
       "      <td>4196</td>\n",
       "      <td>43</td>\n",
       "      <td>Educação Presencial</td>\n",
       "      <td>Extinto</td>\n",
       "      <td>210</td>\n",
       "    </tr>\n",
       "    <tr>\n",
       "      <th>86235</th>\n",
       "      <td>12020</td>\n",
       "      <td>569</td>\n",
       "      <td>COMUNICAÇÃO SOCIAL</td>\n",
       "      <td>Bacharelado</td>\n",
       "      <td>2700</td>\n",
       "      <td>129</td>\n",
       "      <td>Educação Presencial</td>\n",
       "      <td>Extinto</td>\n",
       "      <td>0</td>\n",
       "    </tr>\n",
       "    <tr>\n",
       "      <th>86236</th>\n",
       "      <td>1544956</td>\n",
       "      <td>1042</td>\n",
       "      <td>ADMINISTRAÇÃO</td>\n",
       "      <td>Bacharelado</td>\n",
       "      <td>3000</td>\n",
       "      <td>141</td>\n",
       "      <td>Educação Presencial</td>\n",
       "      <td>Em atividade</td>\n",
       "      <td>50</td>\n",
       "    </tr>\n",
       "    <tr>\n",
       "      <th>86237</th>\n",
       "      <td>1166015</td>\n",
       "      <td>376</td>\n",
       "      <td>LETRAS - PORTUGUÊS E INGLÊS</td>\n",
       "      <td>Licenciatura</td>\n",
       "      <td>3620</td>\n",
       "      <td>60</td>\n",
       "      <td>Educação Presencial</td>\n",
       "      <td>Extinto</td>\n",
       "      <td>270</td>\n",
       "    </tr>\n",
       "    <tr>\n",
       "      <th>86238</th>\n",
       "      <td>51052</td>\n",
       "      <td>1879</td>\n",
       "      <td>LETRAS - PORTUGUÊS E INGLÊS</td>\n",
       "      <td>Licenciatura</td>\n",
       "      <td>3128</td>\n",
       "      <td>60</td>\n",
       "      <td>Educação Presencial</td>\n",
       "      <td>Extinto</td>\n",
       "      <td>100</td>\n",
       "    </tr>\n",
       "  </tbody>\n",
       "</table>\n",
       "</div>"
      ],
      "text/plain": [
       "       CODIGO_CURSO  CODIGO_IES                   NOME_CURSO          GRAU   \n",
       "86234         54772        1077                   PSICOLOGIA  Licenciatura  \\\n",
       "86235         12020         569           COMUNICAÇÃO SOCIAL   Bacharelado   \n",
       "86236       1544956        1042                ADMINISTRAÇÃO   Bacharelado   \n",
       "86237       1166015         376  LETRAS - PORTUGUÊS E INGLÊS  Licenciatura   \n",
       "86238         51052        1879  LETRAS - PORTUGUÊS E INGLÊS  Licenciatura   \n",
       "\n",
       "       CARGA_HORARIA CODIGO_AREA_OCDE_CINE           MODALIDADE   \n",
       "86234           4196                    43  Educação Presencial  \\\n",
       "86235           2700                   129  Educação Presencial   \n",
       "86236           3000                   141  Educação Presencial   \n",
       "86237           3620                    60  Educação Presencial   \n",
       "86238           3128                    60  Educação Presencial   \n",
       "\n",
       "      SITUACAO_CURSO  QT_VAGAS_AUTORIZADAS  \n",
       "86234        Extinto                   210  \n",
       "86235        Extinto                     0  \n",
       "86236   Em atividade                    50  \n",
       "86237        Extinto                   270  \n",
       "86238        Extinto                   100  "
      ]
     },
     "execution_count": 54,
     "metadata": {},
     "output_type": "execute_result"
    }
   ],
   "source": [
    "CURSO.tail()"
   ]
  },
  {
   "cell_type": "code",
   "execution_count": 56,
   "metadata": {},
   "outputs": [],
   "source": [
    "OCDE_CINE = df[['CODIGO_AREA_OCDE_CINE', 'AREA_OCDE_CINE']].drop_duplicates(subset=['CODIGO_AREA_OCDE_CINE']).reset_index(drop=True)"
   ]
  },
  {
   "cell_type": "code",
   "execution_count": 57,
   "metadata": {},
   "outputs": [
    {
     "data": {
      "text/html": [
       "<div>\n",
       "<style scoped>\n",
       "    .dataframe tbody tr th:only-of-type {\n",
       "        vertical-align: middle;\n",
       "    }\n",
       "\n",
       "    .dataframe tbody tr th {\n",
       "        vertical-align: top;\n",
       "    }\n",
       "\n",
       "    .dataframe thead th {\n",
       "        text-align: right;\n",
       "    }\n",
       "</style>\n",
       "<table border=\"1\" class=\"dataframe\">\n",
       "  <thead>\n",
       "    <tr style=\"text-align: right;\">\n",
       "      <th></th>\n",
       "      <th>CODIGO_AREA_OCDE_CINE</th>\n",
       "      <th>AREA_OCDE_CINE</th>\n",
       "    </tr>\n",
       "  </thead>\n",
       "  <tbody>\n",
       "    <tr>\n",
       "      <th>419</th>\n",
       "      <td>322</td>\n",
       "      <td>Saúde (programas ou cursos gerais)</td>\n",
       "    </tr>\n",
       "    <tr>\n",
       "      <th>420</th>\n",
       "      <td>523E11</td>\n",
       "      <td>Engenharia de controle e automação</td>\n",
       "    </tr>\n",
       "    <tr>\n",
       "      <th>421</th>\n",
       "      <td>481C01</td>\n",
       "      <td>Ciência da computação</td>\n",
       "    </tr>\n",
       "    <tr>\n",
       "      <th>422</th>\n",
       "      <td>520P02</td>\n",
       "      <td>Produção industrial</td>\n",
       "    </tr>\n",
       "    <tr>\n",
       "      <th>423</th>\n",
       "      <td>145F11</td>\n",
       "      <td>Formação de professor de história</td>\n",
       "    </tr>\n",
       "  </tbody>\n",
       "</table>\n",
       "</div>"
      ],
      "text/plain": [
       "    CODIGO_AREA_OCDE_CINE                      AREA_OCDE_CINE\n",
       "419                   322  Saúde (programas ou cursos gerais)\n",
       "420                523E11  Engenharia de controle e automação\n",
       "421                481C01               Ciência da computação\n",
       "422                520P02                 Produção industrial\n",
       "423                145F11   Formação de professor de história"
      ]
     },
     "execution_count": 57,
     "metadata": {},
     "output_type": "execute_result"
    }
   ],
   "source": [
    "OCDE_CINE.tail()"
   ]
  },
  {
   "cell_type": "code",
   "execution_count": 59,
   "metadata": {},
   "outputs": [],
   "source": [
    "MUNICIPIOS = df[['CODIGO_MUNICIPIO', 'MUNICIPIO', 'UF']].drop_duplicates(subset=['CODIGO_MUNICIPIO']).reset_index(drop=True)"
   ]
  },
  {
   "cell_type": "code",
   "execution_count": 60,
   "metadata": {},
   "outputs": [
    {
     "data": {
      "text/html": [
       "<div>\n",
       "<style scoped>\n",
       "    .dataframe tbody tr th:only-of-type {\n",
       "        vertical-align: middle;\n",
       "    }\n",
       "\n",
       "    .dataframe tbody tr th {\n",
       "        vertical-align: top;\n",
       "    }\n",
       "\n",
       "    .dataframe thead th {\n",
       "        text-align: right;\n",
       "    }\n",
       "</style>\n",
       "<table border=\"1\" class=\"dataframe\">\n",
       "  <thead>\n",
       "    <tr style=\"text-align: right;\">\n",
       "      <th></th>\n",
       "      <th>CODIGO_MUNICIPIO</th>\n",
       "      <th>MUNICIPIO</th>\n",
       "      <th>UF</th>\n",
       "    </tr>\n",
       "  </thead>\n",
       "  <tbody>\n",
       "    <tr>\n",
       "      <th>3434</th>\n",
       "      <td>3524907</td>\n",
       "      <td>Jambeiro</td>\n",
       "      <td>SP</td>\n",
       "    </tr>\n",
       "    <tr>\n",
       "      <th>3435</th>\n",
       "      <td>2924603</td>\n",
       "      <td>Pindobaçu</td>\n",
       "      <td>BA</td>\n",
       "    </tr>\n",
       "    <tr>\n",
       "      <th>3436</th>\n",
       "      <td>4108007</td>\n",
       "      <td>Florestópolis</td>\n",
       "      <td>PR</td>\n",
       "    </tr>\n",
       "    <tr>\n",
       "      <th>3437</th>\n",
       "      <td>2206704</td>\n",
       "      <td>Nazaré do Piauí</td>\n",
       "      <td>PI</td>\n",
       "    </tr>\n",
       "    <tr>\n",
       "      <th>3438</th>\n",
       "      <td>2204808</td>\n",
       "      <td>Ipiranga do Piauí</td>\n",
       "      <td>PI</td>\n",
       "    </tr>\n",
       "  </tbody>\n",
       "</table>\n",
       "</div>"
      ],
      "text/plain": [
       "      CODIGO_MUNICIPIO          MUNICIPIO  UF\n",
       "3434           3524907           Jambeiro  SP\n",
       "3435           2924603          Pindobaçu  BA\n",
       "3436           4108007      Florestópolis  PR\n",
       "3437           2206704    Nazaré do Piauí  PI\n",
       "3438           2204808  Ipiranga do Piauí  PI"
      ]
     },
     "execution_count": 60,
     "metadata": {},
     "output_type": "execute_result"
    }
   ],
   "source": [
    "MUNICIPIOS.tail()"
   ]
  },
  {
   "attachments": {},
   "cell_type": "markdown",
   "metadata": {},
   "source": [
    "# Carregando os Dados no DB"
   ]
  },
  {
   "cell_type": "code",
   "execution_count": 128,
   "metadata": {},
   "outputs": [],
   "source": [
    "import psycopg2\n",
    "from psycopg2.extensions import register_adapter, AsIs"
   ]
  },
  {
   "cell_type": "code",
   "execution_count": 62,
   "metadata": {},
   "outputs": [],
   "source": [
    "conn = psycopg2.connect(\n",
    "    host=\"localhost\",\n",
    "    database=\"postgres\", \n",
    "    port=5432,\n",
    "    user=\"postgres\",\n",
    "    password=\"99885\")"
   ]
  },
  {
   "cell_type": "code",
   "execution_count": 64,
   "metadata": {},
   "outputs": [],
   "source": [
    "cursor = conn.cursor()"
   ]
  },
  {
   "cell_type": "code",
   "execution_count": 126,
   "metadata": {},
   "outputs": [],
   "source": [
    "conn.commit()"
   ]
  },
  {
   "cell_type": "code",
   "execution_count": 116,
   "metadata": {},
   "outputs": [],
   "source": [
    "cursor.execute(\"\"\"CREATE TABLE ensino.OCDE_CINE (\n",
    "    CODIGO_AREA_OCDE_CINE varchar(10) PRIMARY KEY,\n",
    "    AREA_OCDE_CINE VARCHAR(255));\"\"\")\n",
    "conn.commit()"
   ]
  },
  {
   "cell_type": "code",
   "execution_count": 123,
   "metadata": {},
   "outputs": [],
   "source": [
    "#send data to database\n",
    "for i in range(len(OCDE_CINE)):\n",
    "    cursor.execute(\"\"\"INSERT INTO ensino.OCDE_CINE VALUES (%s, %s);\"\"\", \n",
    "                   (OCDE_CINE.iloc[i]['CODIGO_AREA_OCDE_CINE'], OCDE_CINE.iloc[i]['AREA_OCDE_CINE']))\n",
    "conn.commit()"
   ]
  },
  {
   "cell_type": "code",
   "execution_count": 142,
   "metadata": {},
   "outputs": [],
   "source": [
    "conn.commit()"
   ]
  },
  {
   "cell_type": "code",
   "execution_count": 143,
   "metadata": {},
   "outputs": [],
   "source": [
    "cursor.execute(\"\"\"CREATE TABLE ensino.MUNICIPIO (\n",
    "    CODIGO_MUNICIPIO integer PRIMARY KEY,\n",
    "    MUNICIPIO varchar(100),\n",
    "    UF varchar(2)\n",
    "    );\"\"\")\n",
    "conn.commit()"
   ]
  },
  {
   "cell_type": "code",
   "execution_count": 144,
   "metadata": {},
   "outputs": [],
   "source": [
    "#send data to database\n",
    "for i in range(len(MUNICIPIOS)):\n",
    "    cursor.execute(\"\"\"INSERT INTO ensino.MUNICIPIO VALUES (%s, %s, %s);\"\"\", \n",
    "                   (int(MUNICIPIOS.iloc[i]['CODIGO_MUNICIPIO'].astype(int)), MUNICIPIOS.iloc[i]['MUNICIPIO'], MUNICIPIOS.iloc[i]['UF']))\n",
    "conn.commit()"
   ]
  },
  {
   "cell_type": "code",
   "execution_count": 145,
   "metadata": {},
   "outputs": [],
   "source": [
    "cursor.execute(\"\"\"\n",
    "SELECT * FROM ensino.MUNICIPIO;\n",
    "CREATE TABLE ensino.IES (\n",
    "    CODIGO_IES integer PRIMARY KEY,\n",
    "    NOME_IES varchar(255),\n",
    "    CATEGORIA_ADMINISTRATIVA varchar(255),\n",
    "    ORGANIZACAO_ACADEMICA varchar(255),\n",
    "    REGIAO varchar(255),\n",
    "    CODIGO_MUNICIPIO integer,\n",
    "    \n",
    "    constraint FK_MUNICIPIO foreign key(CODIGO_MUNICIPIO) references ensino.MUNICIPIO(CODIGO_MUNICIPIO));\"\"\")\n",
    "conn.commit()"
   ]
  },
  {
   "cell_type": "code",
   "execution_count": 146,
   "metadata": {},
   "outputs": [],
   "source": [
    "#send data to database\n",
    "for i in range(len(IES)):\n",
    "    cursor.execute(\"\"\"INSERT INTO ensino.IES VALUES (%s, %s, %s, %s, %s, %s);\"\"\", \n",
    "                   (int(IES.iloc[i]['CODIGO_IES'].astype(int)), IES.iloc[i]['NOME_IES'], IES.iloc[i]['CATEGORIA_ADMINISTRATIVA'], IES.iloc[i]['ORGANIZACAO_ACADEMICA'], IES.iloc[i]['REGIAO'], int(IES.iloc[i]['CODIGO_MUNICIPIO'].astype(int))))\n",
    "conn.commit()"
   ]
  },
  {
   "cell_type": "code",
   "execution_count": 148,
   "metadata": {},
   "outputs": [],
   "source": [
    "cursor.execute(\"\"\"CREATE TABLE ensino.CURSOS (\n",
    "        CODIGO_CURSO integer, \n",
    "        CODIGO_IES integer,\n",
    "        NOME_CURSO varchar(400),\n",
    "        GRAU varchar(30),\n",
    "        CARGA_HORARIA integer,\n",
    "        CODIGO_AREA_OCDE_CINE varchar(10),\n",
    "        MODALIDADE varchar(20),\n",
    "        SITUACAO_CURSO varchar(30),\n",
    "        QT_VAGAS_AUTORIZADAS integer,\n",
    "        \n",
    "        constraint pk_CURSO primary key (CODIGO_CURSO,CODIGO_IES),\n",
    "        constraint FK_IES foreign key(CODIGO_IES) references ensino.IES(CODIGO_IES),\n",
    "        constraint FK_OCDE foreign key(CODIGO_AREA_OCDE_CINE) references ensino.OCDE_CINE(CODIGO_AREA_OCDE_CINE));\"\"\")\n",
    "conn.commit()"
   ]
  },
  {
   "cell_type": "code",
   "execution_count": 149,
   "metadata": {},
   "outputs": [],
   "source": [
    "for i in range(len(CURSO)):\n",
    "    cursor.execute(\"\"\"INSERT INTO ensino.CURSOS VALUES (%s, %s, %s, %s, %s, %s, %s, %s, %s);\"\"\", \n",
    "                   (int(CURSO.iloc[i]['CODIGO_CURSO'].astype(int)), int(CURSO.iloc[i]['CODIGO_IES'].astype(int)), CURSO.iloc[i]['NOME_CURSO'], CURSO.iloc[i]['GRAU'], int(CURSO.iloc[i]['CARGA_HORARIA'].astype(int)), CURSO.iloc[i]['CODIGO_AREA_OCDE_CINE'], CURSO.iloc[i]['MODALIDADE'], CURSO.iloc[i]['SITUACAO_CURSO'], int(CURSO.iloc[i]['QT_VAGAS_AUTORIZADAS'].astype(int))))\n",
    "conn.commit()"
   ]
  },
  {
   "attachments": {},
   "cell_type": "markdown",
   "metadata": {},
   "source": [
    "# Verificar Quantitativamente a Carga de Dados"
   ]
  },
  {
   "cell_type": "code",
   "execution_count": 163,
   "metadata": {},
   "outputs": [
    {
     "name": "stdout",
     "output_type": "stream",
     "text": [
      "(86239,)\n",
      "(86239, 9)\n"
     ]
    }
   ],
   "source": [
    "#quantidade de cursos\n",
    "cursor.execute(\"\"\"SELECT COUNT(*) FROM ensino.CURSOS;\"\"\")\n",
    "print(cursor.fetchall()[0])\n",
    "print(CURSO.shape)"
   ]
  },
  {
   "cell_type": "code",
   "execution_count": 164,
   "metadata": {},
   "outputs": [
    {
     "name": "stdout",
     "output_type": "stream",
     "text": [
      "(3706,)\n",
      "(3706, 6)\n"
     ]
    }
   ],
   "source": [
    "#quantidade de IES\n",
    "cursor.execute(\"\"\"SELECT COUNT(*) FROM ensino.IES;\"\"\")\n",
    "print(cursor.fetchall()[0])\n",
    "print(IES.shape)\n"
   ]
  },
  {
   "cell_type": "code",
   "execution_count": 165,
   "metadata": {},
   "outputs": [
    {
     "name": "stdout",
     "output_type": "stream",
     "text": [
      "(3439,)\n",
      "(3439, 3)\n"
     ]
    }
   ],
   "source": [
    "#quantidade de municipios\n",
    "cursor.execute(\"\"\"SELECT COUNT(*) FROM ensino.MUNICIPIO;\"\"\")\n",
    "print(cursor.fetchall()[0])\n",
    "print(MUNICIPIOS.shape)\n"
   ]
  },
  {
   "cell_type": "code",
   "execution_count": 162,
   "metadata": {},
   "outputs": [
    {
     "name": "stdout",
     "output_type": "stream",
     "text": [
      "(424,)\n",
      "(424, 2)\n"
     ]
    }
   ],
   "source": [
    "#quantidade de OCDE_CINE\n",
    "cursor.execute(\"\"\"SELECT COUNT(*) FROM ensino.OCDE_CINE;\"\"\")\n",
    "print(cursor.fetchall()[0])\n",
    "print(OCDE_CINE.shape)"
   ]
  },
  {
   "attachments": {},
   "cell_type": "markdown",
   "metadata": {},
   "source": [
    "# Analise Exploratória dos Dados"
   ]
  },
  {
   "cell_type": "code",
   "execution_count": 161,
   "metadata": {},
   "outputs": [],
   "source": [
    "import matplotlib.pyplot as plt"
   ]
  }
 ],
 "metadata": {
  "kernelspec": {
   "display_name": "venv",
   "language": "python",
   "name": "python3"
  },
  "language_info": {
   "codemirror_mode": {
    "name": "ipython",
    "version": 3
   },
   "file_extension": ".py",
   "mimetype": "text/x-python",
   "name": "python",
   "nbconvert_exporter": "python",
   "pygments_lexer": "ipython3",
   "version": "3.11.3"
  },
  "orig_nbformat": 4
 },
 "nbformat": 4,
 "nbformat_minor": 2
}
